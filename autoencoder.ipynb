{
  "nbformat": 4,
  "nbformat_minor": 0,
  "metadata": {
    "colab": {
      "name": "autoencoder.ipynb",
      "provenance": [],
      "collapsed_sections": [],
      "toc_visible": true,
      "include_colab_link": true
    },
    "kernelspec": {
      "name": "python3",
      "display_name": "Python 3"
    },
    "accelerator": "GPU"
  },
  "cells": [
    {
      "cell_type": "markdown",
      "metadata": {
        "id": "view-in-github",
        "colab_type": "text"
      },
      "source": [
        "<a href=\"https://colab.research.google.com/github/rushabh-v/Autoencoder/blob/master/autoencoder.ipynb\" target=\"_parent\"><img src=\"https://colab.research.google.com/assets/colab-badge.svg\" alt=\"Open In Colab\"/></a>"
      ]
    },
    {
      "cell_type": "code",
      "metadata": {
        "id": "YDlbPm8DBLRH",
        "colab_type": "code",
        "colab": {}
      },
      "source": [
        "import tensorflow as tf\n",
        "import numpy as np\n",
        "from matplotlib import pyplot as plt\n",
        "from tensorflow.keras.layers import Input,Conv2D,MaxPooling2D,UpSampling2D,Conv2DTranspose\n",
        "from tensorflow.keras.models import Model\n",
        "from tensorflow.keras.optimizers import Adam,RMSprop\n",
        "from tensorflow.keras import backend as K\n",
        "import sklearn\n",
        "from sklearn.model_selection import train_test_split"
      ],
      "execution_count": 1,
      "outputs": []
    },
    {
      "cell_type": "code",
      "metadata": {
        "id": "_ih-0jNhAETs",
        "colab_type": "code",
        "colab": {
          "base_uri": "https://localhost:8080/",
          "height": 51
        },
        "outputId": "ee06ff4d-7a23-4fb5-c546-b3e92d9d4485"
      },
      "source": [
        "(x_train, y_train), (x_test, y_test) = tf.keras.datasets.mnist.load_data()"
      ],
      "execution_count": 2,
      "outputs": [
        {
          "output_type": "stream",
          "text": [
            "Downloading data from https://storage.googleapis.com/tensorflow/tf-keras-datasets/mnist.npz\n",
            "11493376/11490434 [==============================] - 0s 0us/step\n"
          ],
          "name": "stdout"
        }
      ]
    },
    {
      "cell_type": "code",
      "metadata": {
        "id": "Rhdk2bYl19yp",
        "colab_type": "code",
        "colab": {}
      },
      "source": [
        "x_train = x_train.reshape(-1, 28,28, 1)/255\n",
        "x_test = x_test.reshape(-1, 28,28, 1)/255"
      ],
      "execution_count": 3,
      "outputs": []
    },
    {
      "cell_type": "code",
      "metadata": {
        "id": "dtZ4A1IbFW32",
        "colab_type": "code",
        "colab": {}
      },
      "source": [
        "X,X_val,Y,Y_val = train_test_split(x_train,x_train,test_size=0.1)"
      ],
      "execution_count": 4,
      "outputs": []
    },
    {
      "cell_type": "code",
      "metadata": {
        "id": "IkklqjW9-O5b",
        "colab_type": "code",
        "colab": {}
      },
      "source": [
        "input_img = Input(shape = (28, 28, 1))"
      ],
      "execution_count": 5,
      "outputs": []
    },
    {
      "cell_type": "code",
      "metadata": {
        "id": "9qRhsDjX10S5",
        "colab_type": "code",
        "colab": {}
      },
      "source": [
        "def Autoencoder(input_img):\n",
        "    #Encoder\n",
        "    x = Conv2D(256, (3, 3), activation='relu', padding='same')(input_img)\n",
        "    x = Conv2D(128, (3, 3), activation='relu', padding='same')(x)\n",
        "    x = Conv2D(64, (3, 3), activation='relu', padding='same')(x)\n",
        "    x = MaxPooling2D(pool_size=(2, 2))(x)\n",
        "    x = Conv2D(32, (3, 3), activation='relu', padding='same')(x)\n",
        "    x = Conv2D(16, (3, 3), activation='relu', padding='same')(x)\n",
        "    x = Conv2D(8, (1, 1), activation='relu', padding='same')(x)\n",
        "    x = MaxPooling2D(pool_size=(2, 2))(x)\n",
        "    x = Conv2D(4, (3, 3), activation='relu', padding='same')(x)\n",
        "    x = Conv2D(2, (1, 1), activation='relu', padding='same')(x)\n",
        "    x = Conv2D(1, (1, 1), activation='relu', padding='same')(x)\n",
        "    #Decoder\n",
        "    x = Conv2D(2, (1, 1), activation='relu', padding='same')(x)\n",
        "    x = Conv2D(4, (3, 3), activation='relu', padding='same')(x)\n",
        "    x = Conv2D(8, (3, 3), activation='relu', padding='same')(x)\n",
        "    x = UpSampling2D((2, 2))(x)\n",
        "    x = Conv2D(16, (3, 3), activation='relu', padding='same')(x)\n",
        "    x = Conv2D(32, (3, 3), activation='relu', padding='same')(x)\n",
        "    x = Conv2D(64, (3, 3), activation='relu', padding='same')(x)\n",
        "    x = UpSampling2D((2, 2))(x)\n",
        "    x = Conv2D(128, (3, 3), activation='relu', padding='same')(x)\n",
        "    x = Conv2D(256, (3, 3), activation='relu', padding='same')(x)\n",
        "    x = Conv2D(1, (3, 3), activation='tanh', padding='same')(x)\n",
        "    return x"
      ],
      "execution_count": 6,
      "outputs": []
    },
    {
      "cell_type": "code",
      "metadata": {
        "id": "w2oIdvtXit-s",
        "colab_type": "code",
        "colab": {}
      },
      "source": [
        "autoencoder_train = Model(input_img, Autoencoder(input_img))\n",
        "autoencoder_train.compile(loss='mean_squared_error', optimizer = Adam())"
      ],
      "execution_count": 8,
      "outputs": []
    },
    {
      "cell_type": "code",
      "metadata": {
        "id": "airJUlrziuhx",
        "colab_type": "code",
        "colab": {
          "base_uri": "https://localhost:8080/",
          "height": 935
        },
        "outputId": "f28dd93d-146f-41e5-9199-b0adb663dc40"
      },
      "source": [
        "autoencoder_train.summary()"
      ],
      "execution_count": 9,
      "outputs": [
        {
          "output_type": "stream",
          "text": [
            "Model: \"model\"\n",
            "_________________________________________________________________\n",
            "Layer (type)                 Output Shape              Param #   \n",
            "=================================================================\n",
            "input_1 (InputLayer)         [(None, 28, 28, 1)]       0         \n",
            "_________________________________________________________________\n",
            "conv2d (Conv2D)              (None, 28, 28, 256)       2560      \n",
            "_________________________________________________________________\n",
            "conv2d_1 (Conv2D)            (None, 28, 28, 128)       295040    \n",
            "_________________________________________________________________\n",
            "conv2d_2 (Conv2D)            (None, 28, 28, 64)        73792     \n",
            "_________________________________________________________________\n",
            "max_pooling2d (MaxPooling2D) (None, 14, 14, 64)        0         \n",
            "_________________________________________________________________\n",
            "conv2d_3 (Conv2D)            (None, 14, 14, 32)        18464     \n",
            "_________________________________________________________________\n",
            "conv2d_4 (Conv2D)            (None, 14, 14, 16)        4624      \n",
            "_________________________________________________________________\n",
            "conv2d_5 (Conv2D)            (None, 14, 14, 8)         136       \n",
            "_________________________________________________________________\n",
            "max_pooling2d_1 (MaxPooling2 (None, 7, 7, 8)           0         \n",
            "_________________________________________________________________\n",
            "conv2d_6 (Conv2D)            (None, 7, 7, 4)           292       \n",
            "_________________________________________________________________\n",
            "conv2d_7 (Conv2D)            (None, 7, 7, 2)           10        \n",
            "_________________________________________________________________\n",
            "conv2d_8 (Conv2D)            (None, 7, 7, 1)           3         \n",
            "_________________________________________________________________\n",
            "conv2d_9 (Conv2D)            (None, 7, 7, 2)           4         \n",
            "_________________________________________________________________\n",
            "conv2d_10 (Conv2D)           (None, 7, 7, 4)           76        \n",
            "_________________________________________________________________\n",
            "conv2d_11 (Conv2D)           (None, 7, 7, 8)           296       \n",
            "_________________________________________________________________\n",
            "up_sampling2d (UpSampling2D) (None, 14, 14, 8)         0         \n",
            "_________________________________________________________________\n",
            "conv2d_12 (Conv2D)           (None, 14, 14, 16)        1168      \n",
            "_________________________________________________________________\n",
            "conv2d_13 (Conv2D)           (None, 14, 14, 32)        4640      \n",
            "_________________________________________________________________\n",
            "conv2d_14 (Conv2D)           (None, 14, 14, 64)        18496     \n",
            "_________________________________________________________________\n",
            "up_sampling2d_1 (UpSampling2 (None, 28, 28, 64)        0         \n",
            "_________________________________________________________________\n",
            "conv2d_15 (Conv2D)           (None, 28, 28, 128)       73856     \n",
            "_________________________________________________________________\n",
            "conv2d_16 (Conv2D)           (None, 28, 28, 256)       295168    \n",
            "_________________________________________________________________\n",
            "conv2d_17 (Conv2D)           (None, 28, 28, 1)         2305      \n",
            "=================================================================\n",
            "Total params: 790,930\n",
            "Trainable params: 790,930\n",
            "Non-trainable params: 0\n",
            "_________________________________________________________________\n"
          ],
          "name": "stdout"
        }
      ]
    },
    {
      "cell_type": "code",
      "metadata": {
        "id": "4D7BDGWVGBlJ",
        "colab_type": "code",
        "colab": {}
      },
      "source": [
        "model_saver = tf.keras.callbacks.ModelCheckpoint(\"model_weights.h5\", \n",
        "                                                 monitor='val_loss', verbose=1, \n",
        "                                                 save_best_only=True, \n",
        "                                                 save_weights_only=False, \n",
        "                                                 mode='auto')"
      ],
      "execution_count": 10,
      "outputs": []
    },
    {
      "cell_type": "code",
      "metadata": {
        "id": "YfQzn7WfnxLo",
        "colab_type": "code",
        "colab": {
          "base_uri": "https://localhost:8080/",
          "height": 1000
        },
        "outputId": "b17fb387-ee99-490a-df4c-5090806568ec"
      },
      "source": [
        "history = autoencoder_train.fit(X,Y,epochs = 20,validation_data = (X_val,Y_val),callbacks = [model_saver])"
      ],
      "execution_count": 11,
      "outputs": [
        {
          "output_type": "stream",
          "text": [
            "Epoch 1/20\n",
            "1688/1688 [==============================] - ETA: 0s - loss: 0.0084\n",
            "Epoch 00001: val_loss improved from inf to 0.00384, saving model to model_weights.h5\n",
            "1688/1688 [==============================] - 54s 32ms/step - loss: 0.0084 - val_loss: 0.0038\n",
            "Epoch 2/20\n",
            "1687/1688 [============================>.] - ETA: 0s - loss: 0.0035\n",
            "Epoch 00002: val_loss improved from 0.00384 to 0.00308, saving model to model_weights.h5\n",
            "1688/1688 [==============================] - 54s 32ms/step - loss: 0.0035 - val_loss: 0.0031\n",
            "Epoch 3/20\n",
            "1687/1688 [============================>.] - ETA: 0s - loss: 0.0029\n",
            "Epoch 00003: val_loss improved from 0.00308 to 0.00276, saving model to model_weights.h5\n",
            "1688/1688 [==============================] - 54s 32ms/step - loss: 0.0029 - val_loss: 0.0028\n",
            "Epoch 4/20\n",
            "1687/1688 [============================>.] - ETA: 0s - loss: 0.0026\n",
            "Epoch 00004: val_loss improved from 0.00276 to 0.00264, saving model to model_weights.h5\n",
            "1688/1688 [==============================] - 54s 32ms/step - loss: 0.0026 - val_loss: 0.0026\n",
            "Epoch 5/20\n",
            "1687/1688 [============================>.] - ETA: 0s - loss: 0.0024\n",
            "Epoch 00005: val_loss improved from 0.00264 to 0.00237, saving model to model_weights.h5\n",
            "1688/1688 [==============================] - 54s 32ms/step - loss: 0.0024 - val_loss: 0.0024\n",
            "Epoch 6/20\n",
            "1687/1688 [============================>.] - ETA: 0s - loss: 0.0023\n",
            "Epoch 00006: val_loss improved from 0.00237 to 0.00225, saving model to model_weights.h5\n",
            "1688/1688 [==============================] - 54s 32ms/step - loss: 0.0023 - val_loss: 0.0023\n",
            "Epoch 7/20\n",
            "1687/1688 [============================>.] - ETA: 0s - loss: 0.0021\n",
            "Epoch 00007: val_loss improved from 0.00225 to 0.00212, saving model to model_weights.h5\n",
            "1688/1688 [==============================] - 54s 32ms/step - loss: 0.0021 - val_loss: 0.0021\n",
            "Epoch 8/20\n",
            "1687/1688 [============================>.] - ETA: 0s - loss: 0.0021\n",
            "Epoch 00008: val_loss did not improve from 0.00212\n",
            "1688/1688 [==============================] - 53s 32ms/step - loss: 0.0021 - val_loss: 0.0031\n",
            "Epoch 9/20\n",
            "1687/1688 [============================>.] - ETA: 0s - loss: 0.0020\n",
            "Epoch 00009: val_loss improved from 0.00212 to 0.00202, saving model to model_weights.h5\n",
            "1688/1688 [==============================] - 54s 32ms/step - loss: 0.0020 - val_loss: 0.0020\n",
            "Epoch 10/20\n",
            "1687/1688 [============================>.] - ETA: 0s - loss: 0.0019\n",
            "Epoch 00010: val_loss improved from 0.00202 to 0.00190, saving model to model_weights.h5\n",
            "1688/1688 [==============================] - 54s 32ms/step - loss: 0.0019 - val_loss: 0.0019\n",
            "Epoch 11/20\n",
            "1687/1688 [============================>.] - ETA: 0s - loss: 0.0019\n",
            "Epoch 00011: val_loss did not improve from 0.00190\n",
            "1688/1688 [==============================] - 53s 32ms/step - loss: 0.0019 - val_loss: 0.0020\n",
            "Epoch 12/20\n",
            "1687/1688 [============================>.] - ETA: 0s - loss: 0.0018\n",
            "Epoch 00012: val_loss did not improve from 0.00190\n",
            "1688/1688 [==============================] - 53s 32ms/step - loss: 0.0018 - val_loss: 0.0020\n",
            "Epoch 13/20\n",
            "1687/1688 [============================>.] - ETA: 0s - loss: 0.0018\n",
            "Epoch 00013: val_loss did not improve from 0.00190\n",
            "1688/1688 [==============================] - 54s 32ms/step - loss: 0.0018 - val_loss: 0.0019\n",
            "Epoch 14/20\n",
            "1687/1688 [============================>.] - ETA: 0s - loss: 0.0018\n",
            "Epoch 00014: val_loss did not improve from 0.00190\n",
            "1688/1688 [==============================] - 53s 32ms/step - loss: 0.0018 - val_loss: 0.0023\n",
            "Epoch 15/20\n",
            "1687/1688 [============================>.] - ETA: 0s - loss: 0.0017\n",
            "Epoch 00015: val_loss did not improve from 0.00190\n",
            "1688/1688 [==============================] - 53s 32ms/step - loss: 0.0017 - val_loss: 0.0021\n",
            "Epoch 16/20\n",
            "1687/1688 [============================>.] - ETA: 0s - loss: 0.0017\n",
            "Epoch 00016: val_loss improved from 0.00190 to 0.00176, saving model to model_weights.h5\n",
            "1688/1688 [==============================] - 54s 32ms/step - loss: 0.0017 - val_loss: 0.0018\n",
            "Epoch 17/20\n",
            "1687/1688 [============================>.] - ETA: 0s - loss: 0.0017\n",
            "Epoch 00017: val_loss did not improve from 0.00176\n",
            "1688/1688 [==============================] - 53s 32ms/step - loss: 0.0017 - val_loss: 0.0018\n",
            "Epoch 18/20\n",
            "1687/1688 [============================>.] - ETA: 0s - loss: 0.0017\n",
            "Epoch 00018: val_loss improved from 0.00176 to 0.00174, saving model to model_weights.h5\n",
            "1688/1688 [==============================] - 53s 32ms/step - loss: 0.0017 - val_loss: 0.0017\n",
            "Epoch 19/20\n",
            "1687/1688 [============================>.] - ETA: 0s - loss: 0.0016\n",
            "Epoch 00019: val_loss did not improve from 0.00174\n",
            "1688/1688 [==============================] - 53s 32ms/step - loss: 0.0016 - val_loss: 0.0018\n",
            "Epoch 20/20\n",
            "1687/1688 [============================>.] - ETA: 0s - loss: 0.0016\n",
            "Epoch 00020: val_loss did not improve from 0.00174\n",
            "1688/1688 [==============================] - 54s 32ms/step - loss: 0.0016 - val_loss: 0.0018\n"
          ],
          "name": "stdout"
        }
      ]
    },
    {
      "cell_type": "code",
      "metadata": {
        "id": "mpzYPu5RHw7E",
        "colab_type": "code",
        "colab": {}
      },
      "source": [
        "encoder = Model(input_img,autoencoder_train.layers[11].output)"
      ],
      "execution_count": 12,
      "outputs": []
    },
    {
      "cell_type": "code",
      "metadata": {
        "id": "ZutXDOXRKNLZ",
        "colab_type": "code",
        "colab": {
          "base_uri": "https://localhost:8080/",
          "height": 561
        },
        "outputId": "ed427078-d65c-44cb-951c-bb872d8e35a8"
      },
      "source": [
        "encoder.summary()"
      ],
      "execution_count": 13,
      "outputs": [
        {
          "output_type": "stream",
          "text": [
            "Model: \"model_1\"\n",
            "_________________________________________________________________\n",
            "Layer (type)                 Output Shape              Param #   \n",
            "=================================================================\n",
            "input_1 (InputLayer)         [(None, 28, 28, 1)]       0         \n",
            "_________________________________________________________________\n",
            "conv2d (Conv2D)              (None, 28, 28, 256)       2560      \n",
            "_________________________________________________________________\n",
            "conv2d_1 (Conv2D)            (None, 28, 28, 128)       295040    \n",
            "_________________________________________________________________\n",
            "conv2d_2 (Conv2D)            (None, 28, 28, 64)        73792     \n",
            "_________________________________________________________________\n",
            "max_pooling2d (MaxPooling2D) (None, 14, 14, 64)        0         \n",
            "_________________________________________________________________\n",
            "conv2d_3 (Conv2D)            (None, 14, 14, 32)        18464     \n",
            "_________________________________________________________________\n",
            "conv2d_4 (Conv2D)            (None, 14, 14, 16)        4624      \n",
            "_________________________________________________________________\n",
            "conv2d_5 (Conv2D)            (None, 14, 14, 8)         136       \n",
            "_________________________________________________________________\n",
            "max_pooling2d_1 (MaxPooling2 (None, 7, 7, 8)           0         \n",
            "_________________________________________________________________\n",
            "conv2d_6 (Conv2D)            (None, 7, 7, 4)           292       \n",
            "_________________________________________________________________\n",
            "conv2d_7 (Conv2D)            (None, 7, 7, 2)           10        \n",
            "_________________________________________________________________\n",
            "conv2d_8 (Conv2D)            (None, 7, 7, 1)           3         \n",
            "=================================================================\n",
            "Total params: 394,921\n",
            "Trainable params: 394,921\n",
            "Non-trainable params: 0\n",
            "_________________________________________________________________\n"
          ],
          "name": "stdout"
        }
      ]
    },
    {
      "cell_type": "code",
      "metadata": {
        "id": "_EzrC6G8IHRx",
        "colab_type": "code",
        "colab": {}
      },
      "source": [
        "idx = 12\n",
        "input_shape = autoencoder_train.layers[idx].get_input_shape_at(0)[1:]\n",
        "layer_input = Input(shape=input_shape)\n",
        "\n",
        "x = layer_input\n",
        "for layer in autoencoder_train.layers[idx:]:\n",
        "    x = layer(x)\n",
        "\n",
        "\n",
        "decoder = Model(layer_input, x)"
      ],
      "execution_count": 20,
      "outputs": []
    },
    {
      "cell_type": "code",
      "metadata": {
        "id": "-a9uHnWiKJAW",
        "colab_type": "code",
        "colab": {
          "base_uri": "https://localhost:8080/",
          "height": 561
        },
        "outputId": "3dafd9b5-146d-4b3e-d662-1507be68d16a"
      },
      "source": [
        "decoder.summary()"
      ],
      "execution_count": 21,
      "outputs": [
        {
          "output_type": "stream",
          "text": [
            "Model: \"model_3\"\n",
            "_________________________________________________________________\n",
            "Layer (type)                 Output Shape              Param #   \n",
            "=================================================================\n",
            "input_3 (InputLayer)         [(None, 7, 7, 1)]         0         \n",
            "_________________________________________________________________\n",
            "conv2d_9 (Conv2D)            (None, 7, 7, 2)           4         \n",
            "_________________________________________________________________\n",
            "conv2d_10 (Conv2D)           (None, 7, 7, 4)           76        \n",
            "_________________________________________________________________\n",
            "conv2d_11 (Conv2D)           (None, 7, 7, 8)           296       \n",
            "_________________________________________________________________\n",
            "up_sampling2d (UpSampling2D) (None, 14, 14, 8)         0         \n",
            "_________________________________________________________________\n",
            "conv2d_12 (Conv2D)           (None, 14, 14, 16)        1168      \n",
            "_________________________________________________________________\n",
            "conv2d_13 (Conv2D)           (None, 14, 14, 32)        4640      \n",
            "_________________________________________________________________\n",
            "conv2d_14 (Conv2D)           (None, 14, 14, 64)        18496     \n",
            "_________________________________________________________________\n",
            "up_sampling2d_1 (UpSampling2 (None, 28, 28, 64)        0         \n",
            "_________________________________________________________________\n",
            "conv2d_15 (Conv2D)           (None, 28, 28, 128)       73856     \n",
            "_________________________________________________________________\n",
            "conv2d_16 (Conv2D)           (None, 28, 28, 256)       295168    \n",
            "_________________________________________________________________\n",
            "conv2d_17 (Conv2D)           (None, 28, 28, 1)         2305      \n",
            "=================================================================\n",
            "Total params: 396,009\n",
            "Trainable params: 396,009\n",
            "Non-trainable params: 0\n",
            "_________________________________________________________________\n"
          ],
          "name": "stdout"
        }
      ]
    },
    {
      "cell_type": "code",
      "metadata": {
        "id": "JazTEhJmIBmM",
        "colab_type": "code",
        "colab": {}
      },
      "source": [
        "code = encoder.predict(x_test)"
      ],
      "execution_count": 22,
      "outputs": []
    },
    {
      "cell_type": "code",
      "metadata": {
        "id": "nxUen3CtLOiz",
        "colab_type": "code",
        "colab": {
          "base_uri": "https://localhost:8080/",
          "height": 34
        },
        "outputId": "85d08915-e24f-47d5-84c6-66d365d57768"
      },
      "source": [
        "code.shape"
      ],
      "execution_count": 23,
      "outputs": [
        {
          "output_type": "execute_result",
          "data": {
            "text/plain": [
              "(10000, 7, 7, 1)"
            ]
          },
          "metadata": {
            "tags": []
          },
          "execution_count": 23
        }
      ]
    },
    {
      "cell_type": "code",
      "metadata": {
        "id": "UqhqxoudKVlY",
        "colab_type": "code",
        "colab": {}
      },
      "source": [
        "extract = decoder.predict(code)"
      ],
      "execution_count": 24,
      "outputs": []
    },
    {
      "cell_type": "code",
      "metadata": {
        "id": "md7MHI8tLQOQ",
        "colab_type": "code",
        "colab": {
          "base_uri": "https://localhost:8080/",
          "height": 34
        },
        "outputId": "d41fb781-a854-439b-f296-fcf383d7ce21"
      },
      "source": [
        "extract.shape"
      ],
      "execution_count": 25,
      "outputs": [
        {
          "output_type": "execute_result",
          "data": {
            "text/plain": [
              "(10000, 28, 28, 1)"
            ]
          },
          "metadata": {
            "tags": []
          },
          "execution_count": 25
        }
      ]
    },
    {
      "cell_type": "markdown",
      "metadata": {
        "id": "07njBs4KRYrt",
        "colab_type": "text"
      },
      "source": [
        "#Plotting original and extracted images"
      ]
    },
    {
      "cell_type": "code",
      "metadata": {
        "id": "H2ujL2wgPCtk",
        "colab_type": "code",
        "colab": {
          "base_uri": "https://localhost:8080/",
          "height": 1000
        },
        "outputId": "6c58ce87-01f7-4f59-9418-59e4a1a8f10d"
      },
      "source": [
        "w=10\n",
        "h=10\n",
        "fig=plt.figure(figsize=(10, 20))\n",
        "columns = 2\n",
        "rows = 10\n",
        "j = 0\n",
        "k = 0\n",
        "for i in range(1, columns*rows +1):\n",
        "    if i%2 == 0:\n",
        "        img = extract[j,...,0]\n",
        "        j+=1\n",
        "    else:\n",
        "        img = x_test[k,...,0]\n",
        "        k+=1\n",
        "    fig.add_subplot(rows, columns, i)\n",
        "    plt.imshow(img,cmap = 'gray')\n",
        "plt.show()"
      ],
      "execution_count": 26,
      "outputs": [
        {
          "output_type": "display_data",
          "data": {
            "image/png": "[encoded data removed]",
            "text/plain": [
              "<Figure size 720x1440 with 20 Axes>"
            ]
          },
          "metadata": {
            "tags": [],
            "needs_background": "light"
          }
        }
      ]
    },
    {
      "cell_type": "code",
      "metadata": {
        "id": "bzfaCbpJQN9e",
        "colab_type": "code",
        "colab": {}
      },
      "source": [
        ""
      ],
      "execution_count": null,
      "outputs": []
    }
  ]
}